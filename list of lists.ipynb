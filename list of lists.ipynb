{
 "cells": [
  {
   "cell_type": "code",
   "execution_count": 6,
   "metadata": {},
   "outputs": [
    {
     "name": "stdout",
     "output_type": "stream",
     "text": [
      "[[(0, 0), (0, 1), (0, 2), (0, 3), (0, 4), (0, 5), (0, 6), (0, 7), (0, 8), (0, 9)], [(1, 0), (1, 1), (1, 2), (1, 3), (1, 4), (1, 5), (1, 6), (1, 7), (1, 8), (1, 9)]]\n"
     ]
    }
   ],
   "source": [
    "listoflists = []\n",
    "for i in range(0,2):\n",
    "    sublist = []\n",
    "    for j in range(0,10):\n",
    "        sublist.append((i,j))\n",
    "    listoflists.append(sublist)\n",
    "print (listoflists)\n"
   ]
  },
  {
   "cell_type": "code",
   "execution_count": 1,
   "metadata": {},
   "outputs": [
    {
     "name": "stdout",
     "output_type": "stream",
     "text": [
      "[([1, 2, 3], 1), ([2, 3, 4], 2), ([3, 4, 5], 3), ([4, 5, 6], 4), ([5, 6, 7], 5), ([6, 7, 8], 6), ([7, 8, 9], 7)]\n"
     ]
    }
   ],
   "source": [
    "listoflists = []\n",
    "a_list = []\n",
    "for i in range(0,10):\n",
    "    a_list.append(i)\n",
    "    if len(a_list)>3:\n",
    "        a_list.remove(a_list[0])\n",
    "        listoflists.append((list(a_list), a_list[0]))\n",
    "print (listoflists)"
   ]
  },
  {
   "cell_type": "code",
   "execution_count": 17,
   "metadata": {},
   "outputs": [
    {
     "name": "stdout",
     "output_type": "stream",
     "text": [
      "{'name': 'Pam', 'age': 7}\n",
      "this data types of results is <class 'dict'>\n"
     ]
    }
   ],
   "source": [
    "#List of dicts\n",
    "dicts = [\n",
    "    { \"name\": \"Tom\", \"age\": 10 },\n",
    "    { \"name\": \"Mark\", \"age\": 5 },\n",
    "    { \"name\": \"Pam\", \"age\": 7 },\n",
    "    { \"name\": \"Dick\", \"age\": 12 }\n",
    "]\n",
    "\n",
    "ge =(item for item in dicts if item[\"name\"] == \"Pam\")\n",
    "for ge_dict in ge:\n",
    "    print(ge_dict)\n",
    "    \n",
    "print(\"this data types of results is\", type(ge_dict))    \n",
    "#{'age': 7, 'name': 'Pam'}"
   ]
  },
  {
   "cell_type": "code",
   "execution_count": null,
   "metadata": {},
   "outputs": [],
   "source": []
  },
  {
   "cell_type": "code",
   "execution_count": null,
   "metadata": {},
   "outputs": [],
   "source": []
  }
 ],
 "metadata": {
  "kernelspec": {
   "display_name": "Python 3",
   "language": "python",
   "name": "python3"
  },
  "language_info": {
   "codemirror_mode": {
    "name": "ipython",
    "version": 3
   },
   "file_extension": ".py",
   "mimetype": "text/x-python",
   "name": "python",
   "nbconvert_exporter": "python",
   "pygments_lexer": "ipython3",
   "version": "3.6.5"
  }
 },
 "nbformat": 4,
 "nbformat_minor": 2
}
